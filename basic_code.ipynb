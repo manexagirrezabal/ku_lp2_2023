{
 "cells": [
  {
   "cell_type": "code",
   "execution_count": 1,
   "id": "00a7a9ef",
   "metadata": {},
   "outputs": [],
   "source": [
    "import glob\n",
    "import json\n",
    "\n",
    "from tqdm import tqdm"
   ]
  },
  {
   "cell_type": "code",
   "execution_count": 3,
   "id": "0e6de6b5",
   "metadata": {},
   "outputs": [],
   "source": [
    "#!dir D:\\corpora\\pan23-multi-author-analysis\\release\\pan23-multi-author-analysis-dataset1\\pan23-multi-author-analysis-dataset1-train"
   ]
  },
  {
   "cell_type": "code",
   "execution_count": 4,
   "id": "8926b595",
   "metadata": {},
   "outputs": [],
   "source": [
    "DIRECTORY = \"D:\\corpora\\\\pan23-multi-author-analysis\\\\release\\\\pan23-multi-author-analysis-dataset1\\\\pan23-multi-author-analysis-dataset1-train\\\\\""
   ]
  },
  {
   "cell_type": "code",
   "execution_count": 5,
   "id": "ca13bbae",
   "metadata": {},
   "outputs": [
    {
     "name": "stderr",
     "output_type": "stream",
     "text": [
      "100%|████████████████████████████████████████████████████████████████████████████| 4200/4200 [00:00<00:00, 7022.28it/s]\n"
     ]
    }
   ],
   "source": [
    "dataset = {}\n",
    "for file_physical in tqdm(glob.glob(DIRECTORY+\"problem-*\")):\n",
    "    \n",
    "    filedir_v = file_physical.split(\"\\\\\")\n",
    "    \n",
    "    filename = filedir_v[-1]\n",
    "    number = filename[8:-4]\n",
    "    \n",
    "#    print (filedir_v[0],filedir_v[-1],number)\n",
    "    \n",
    "    problemaddress = \"\\\\\".join(filedir_v[:-1])+\"\\\\\"+\"problem-\"+number+\".txt\"\n",
    "    truthaddress = \"\\\\\".join(filedir_v[:-1])+\"\\\\\"+\"truth-problem-\"+number+\".json\"\n",
    "    \n",
    "    f=open(problemaddress,encoding=\"utf8\",newline=\"\") #This newline is important\n",
    "    text = f.read()\n",
    "    f.close()\n",
    "    \n",
    "    f=open(truthaddress,encoding=\"utf8\")\n",
    "    filecontent = f.read().replace(\"\\n\",\"\")\n",
    "    f.close()\n",
    "    dataset[number] = (text, json.loads(filecontent))\n",
    "    #print (truthaddress)\n"
   ]
  },
  {
   "cell_type": "code",
   "execution_count": null,
   "id": "1d59fc7f",
   "metadata": {},
   "outputs": [],
   "source": [
    "dataset[\"100\"]"
   ]
  },
  {
   "cell_type": "code",
   "execution_count": 7,
   "id": "b4b9dd4d",
   "metadata": {},
   "outputs": [
    {
     "data": {
      "text/plain": [
       "4"
      ]
     },
     "execution_count": 7,
     "metadata": {},
     "output_type": "execute_result"
    }
   ],
   "source": [
    "len(dataset[\"100\"][0].split(\"\\n\"))"
   ]
  },
  {
   "cell_type": "code",
   "execution_count": 8,
   "id": "ab2a7c71",
   "metadata": {},
   "outputs": [
    {
     "data": {
      "text/plain": [
       "4200"
      ]
     },
     "execution_count": 8,
     "metadata": {},
     "output_type": "execute_result"
    }
   ],
   "source": [
    "len(dataset)"
   ]
  },
  {
   "cell_type": "code",
   "execution_count": 9,
   "id": "1b552fc1",
   "metadata": {},
   "outputs": [],
   "source": [
    "#Build dataset with instances (Two paragraphs -> change or not)\n",
    "\n",
    "#YOUR CODE HERE"
   ]
  },
  {
   "cell_type": "markdown",
   "id": "171ce4e9",
   "metadata": {},
   "source": [
    "Once that you build the dataset, you can decide the validation mechanism you want to employ:\n",
    "\n",
    "  * Train / test split\n",
    "  * K-Fold Cross validation"
   ]
  },
  {
   "cell_type": "code",
   "execution_count": 10,
   "id": "61e810ab",
   "metadata": {},
   "outputs": [],
   "source": [
    "#YOUR CODE HERE"
   ]
  },
  {
   "cell_type": "markdown",
   "id": "f30fc0bc",
   "metadata": {},
   "source": [
    "Then, you may want to think of which are relevant features for this task, or how to represent each instance."
   ]
  },
  {
   "cell_type": "code",
   "execution_count": 11,
   "id": "031c191d",
   "metadata": {},
   "outputs": [],
   "source": [
    "#YOUR CODE HERE"
   ]
  },
  {
   "cell_type": "markdown",
   "id": "c1a48a47",
   "metadata": {},
   "source": [
    "You have features, you have classes, you may want to train some sort of classifier."
   ]
  },
  {
   "cell_type": "code",
   "execution_count": 12,
   "id": "19b53ca0",
   "metadata": {},
   "outputs": [],
   "source": [
    "#YOUR CODE HERE"
   ]
  },
  {
   "cell_type": "markdown",
   "id": "ed1a4464",
   "metadata": {},
   "source": [
    "And then check how everything works:"
   ]
  },
  {
   "cell_type": "code",
   "execution_count": 13,
   "id": "dd261b0c",
   "metadata": {},
   "outputs": [],
   "source": [
    "#YOUR CODE HERE"
   ]
  }
 ],
 "metadata": {
  "kernelspec": {
   "display_name": "Python [conda env:gpu_june22_new]",
   "language": "python",
   "name": "conda-env-gpu_june22_new-py"
  },
  "language_info": {
   "codemirror_mode": {
    "name": "ipython",
    "version": 3
   },
   "file_extension": ".py",
   "mimetype": "text/x-python",
   "name": "python",
   "nbconvert_exporter": "python",
   "pygments_lexer": "ipython3",
   "version": "3.9.12"
  }
 },
 "nbformat": 4,
 "nbformat_minor": 5
}
